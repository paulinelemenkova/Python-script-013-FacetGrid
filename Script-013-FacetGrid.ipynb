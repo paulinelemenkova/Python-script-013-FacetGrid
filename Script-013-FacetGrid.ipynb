{
 "cells": [
  {
   "cell_type": "code",
   "execution_count": 1,
   "metadata": {},
   "outputs": [
    {
     "data": {
      "text/plain": [
       "<Figure size 1500x1500 with 25 Axes>"
      ]
     },
     "metadata": {},
     "output_type": "display_data"
    }
   ],
   "source": [
    "#!/usr/bin/env python\n",
    "# coding: utf-8\n",
    "#\n",
    "# libraries\n",
    "import numpy as np\n",
    "import seaborn as sb\n",
    "import pandas as pd\n",
    "import matplotlib.pyplot as plt\n",
    "import os\n",
    "#\n",
    "# import data\n",
    "os.chdir('/Users/pauline/Documents/Python')\n",
    "dfM = pd.read_csv(\"Tab-Bathy.csv\")\n",
    "sb.set_style('darkgrid')\n",
    "df = dfM.melt(id_vars=['observ'], \n",
    "              value_vars=[\"profile1\", \"profile2\", \"profile3\", \"profile4\", \"profile5\", \n",
    "                          \"profile6\", \"profile7\",\"profile8\", \"profile9\", \"profile10\",\n",
    "                          \"profile11\", \"profile12\", \"profile13\", \"profile14\", \"profile15\",\n",
    "                          \"profile16\", \"profile17\", \"profile18\", \"profile19\", \"profile20\",\n",
    "                          \"profile21\", \"profile22\", \"profile23\", \"profile24\", \"profile25\"],\n",
    "              var_name='Profiles', value_name='Depths')\n",
    "#\n",
    "# Create a grid : initialize it\n",
    "g = sb.FacetGrid(df, col='Profiles', hue='Profiles', col_wrap=5, )\n",
    "#\n",
    "# Add the line over the area with the plot function\n",
    "g = g.map(plt.plot, 'observ', 'Depths')\n",
    "#\n",
    "# Fill the area with fill_between\n",
    "g = g.map(plt.fill_between, 'observ', 'Depths', alpha=0.1).set_titles(\"{col_name} Profile\")\n",
    "#\n",
    "# Control the title of each facet\n",
    "g = g.set_titles(\"{col_name}\")\n",
    "#\n",
    "# Add a title for the whole plot\n",
    "plt.subplots_adjust(top=0.92)\n",
    "g = g.fig.suptitle('Bathymetric cross-section 25 profiles of the Mariana Trench: \\n518 observation points in each profile', fontsize=14, fontfamily='serif')\n",
    "plt.subplots_adjust(bottom=0.05,top=0.90)\n",
    "plt.show()\n"
   ]
  }
 ],
 "metadata": {
  "kernelspec": {
   "display_name": "Python 3",
   "language": "python",
   "name": "python3"
  },
  "language_info": {
   "codemirror_mode": {
    "name": "ipython",
    "version": 3
   },
   "file_extension": ".py",
   "mimetype": "text/x-python",
   "name": "python",
   "nbconvert_exporter": "python",
   "pygments_lexer": "ipython3",
   "version": "3.7.3"
  }
 },
 "nbformat": 4,
 "nbformat_minor": 2
}
